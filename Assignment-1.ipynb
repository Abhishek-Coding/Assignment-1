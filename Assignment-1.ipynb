{
  "cells": [
    {
      "metadata": {
        "trusted": true
      },
      "cell_type": "code",
      "source": "# problem 1\nprint(\"This program can find the type of input function\")\nipt=input(\"Input \")\nprint(type(ipt))\n# Input function is a string by default.",
      "execution_count": 1,
      "outputs": [
        {
          "output_type": "stream",
          "text": "This program can find the type of Input function\nInput 2\n<class 'str'>\n",
          "name": "stdout"
        }
      ]
    },
    {
      "metadata": {
        "trusted": true
      },
      "cell_type": "code",
      "source": "# problem 2\nprint(\"This program can find the type of print function\")\nprt=type(print())\nprint(prt)\n# So, print() don't have any type.",
      "execution_count": 4,
      "outputs": [
        {
          "output_type": "stream",
          "text": "This program can find the type of print function\n\n<class 'NoneType'>\n",
          "name": "stdout"
        }
      ]
    },
    {
      "metadata": {
        "trusted": true
      },
      "cell_type": "code",
      "source": "# problem 3\nprint(\"This program can add any two numbers\")\nNum1=float(input(\"Enter the 1st Number \"))\nNum2=float(input(\"Enter the 2nd Number \"))\nprint(Num1+Num2)",
      "execution_count": 5,
      "outputs": [
        {
          "output_type": "stream",
          "text": "This program can add any two numbers\nEnter the 1st Number 34.9\nEnter the 2nd Number 25.1\n60.0\n",
          "name": "stdout"
        }
      ]
    },
    {
      "metadata": {
        "trusted": true
      },
      "cell_type": "code",
      "source": "# problem 4\nname=input(\"What's Your Name? \")\nage=input(\"What's Your Age? \")\nprint(name,\"->\",age)",
      "execution_count": 6,
      "outputs": [
        {
          "output_type": "stream",
          "name": "stdout",
          "text": "What's Your Name? Abhishek\nWhat's Your Age? 13\nAbhishek -> 13\n"
        }
      ]
    },
    {
      "metadata": {
        "trusted": true
      },
      "cell_type": "code",
      "source": "# problem 5\nname=input(\"What's Your Name? \")\nage=input(\"What's Your Age? \")\nprint(\"My Name is\",name,\".And my age is\",age)",
      "execution_count": 8,
      "outputs": [
        {
          "output_type": "stream",
          "name": "stdout",
          "text": "What's Your Name? Abhishek\nWhat's Your Age? 13\nMy Name is Abhishek .And my age is 13\n"
        }
      ]
    },
    {
      "metadata": {
        "trusted": true
      },
      "cell_type": "code",
      "source": "# problem 6\nprint(\"Manmohan\",\"Gupta\",\"Rahul\",\"Janghu\",sep=\" and \" )\n# The output will be Manmohan and Gupta and Rahul and Janghu",
      "execution_count": 10,
      "outputs": [
        {
          "output_type": "stream",
          "text": "Manmohan and Gupta and Rahul and Janghu\n",
          "name": "stdout"
        }
      ]
    },
    {
      "metadata": {
        "trusted": true
      },
      "cell_type": "code",
      "source": "# problem 6 a.\nprint(\"Hello\",\"VMCians\")\n# The Output will be Hello VMCians",
      "execution_count": 13,
      "outputs": [
        {
          "output_type": "stream",
          "text": "Hello VMCians\n",
          "name": "stdout"
        }
      ]
    },
    {
      "metadata": {
        "trusted": true
      },
      "cell_type": "code",
      "source": "# problem 7\n# I think that the output will be Hello VMCians Are you excited?",
      "execution_count": null,
      "outputs": []
    },
    {
      "metadata": {
        "trusted": true
      },
      "cell_type": "code",
      "source": "# problem 8\n# I think that the output will be Hello VMCians How are you? Are you excited?",
      "execution_count": null,
      "outputs": []
    },
    {
      "metadata": {
        "trusted": true
      },
      "cell_type": "code",
      "source": "# problem 9\n# 22 cannot be a variable because variable cannot start with a number in python",
      "execution_count": 15,
      "outputs": []
    },
    {
      "metadata": {
        "trusted": true
      },
      "cell_type": "code",
      "source": "# problem 10\na=int(input(\"Input a \"))\nb=int(input(\"Input b \"))\nif a%b==0:\n    print(a/b)\nelse:\n    print(\"The result will not be a Integer\")",
      "execution_count": 17,
      "outputs": [
        {
          "output_type": "stream",
          "name": "stdout",
          "text": "Input a 3\nInput b 2\nThe result will not be a Integer\n"
        }
      ]
    },
    {
      "metadata": {
        "trusted": true
      },
      "cell_type": "code",
      "source": "# problem 11\n# No, we cannot directly add two numbers taken as inputs from User\n# because that input will be considered as a string.\n# if we try to add them without changing datatype to Integer they will be joined.\n# eg- print(input1+input2), the result will be input1input2.",
      "execution_count": null,
      "outputs": []
    },
    {
      "metadata": {
        "trusted": true
      },
      "cell_type": "code",
      "source": "# problem 12\n# Yes, we can print any datatype using print function",
      "execution_count": null,
      "outputs": []
    },
    {
      "metadata": {
        "trusted": true
      },
      "cell_type": "code",
      "source": "# problem 13\n# These will not get added because \"a\" will be considered as a Integer but \"b\" will be considered as a string\n# and two different datatypes cannot be added,substracted,multiplicated or divided",
      "execution_count": null,
      "outputs": []
    },
    {
      "metadata": {
        "trusted": true
      },
      "cell_type": "code",
      "source": "# problem 14\n# a b=4,5 is a invalid statement. because, variable name cannot have space(s)",
      "execution_count": 25,
      "outputs": []
    }
  ],
  "metadata": {
    "kernelspec": {
      "name": "python36",
      "display_name": "Python 3.6",
      "language": "python"
    },
    "language_info": {
      "mimetype": "text/x-python",
      "nbconvert_exporter": "python",
      "name": "python",
      "pygments_lexer": "ipython3",
      "version": "3.6.6",
      "file_extension": ".py",
      "codemirror_mode": {
        "version": 3,
        "name": "ipython"
      }
    }
  },
  "nbformat": 4,
  "nbformat_minor": 2
}